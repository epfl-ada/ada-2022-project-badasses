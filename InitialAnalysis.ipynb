{
 "cells": [
  {
   "cell_type": "markdown",
   "id": "a54ead19",
   "metadata": {},
   "source": [
    "# Milestone 2 Initial Analysis\n",
    "\n",
    "## Title: It’s a beer’s, beer’s, beer’s world\n",
    "\n",
    "## Abstract:\n",
    "What if we re-arranged the world through beer taste? What would be the map resulting from it? What countries will be linked per their beer’s love? Can natural enemies become friends over a nice cold beverage? \n",
    "\n",
    "This project will have two phases: the first will be to find the best method to compute the favorite beer style per country, and the second to reassemble them according to the latter results.\n",
    "\n",
    "For the first one, we will analyze several ways to find, and try to be as accurate as possible with the dataset given:  we plan to try various methods and libraries to generate the results, and compare the resultings insights we find, and hopefully tell an awesome, easy-to-follow story using a combination of maps and statistics.\n",
    "\n",
    "Then, we will use those various methods to cluster the different countries, and observe the new world beer map!\n",
    "\n",
    "## Research Questions:\n",
    "1. What is the best method to find the favorite beer per country?\n",
    "2. What happens if we draw the world’s boundaries using beer preferences?\n",
    "\n",
    "The following details some of the initial analysis we completed while exploring possible research questions and the feasibility of our ideas."
   ]
  },
  {
   "cell_type": "markdown",
   "id": "12462427",
   "metadata": {},
   "source": [
    "## 0 Import libraries"
   ]
  },
  {
   "cell_type": "code",
   "execution_count": 1,
   "id": "abcd7037",
   "metadata": {},
   "outputs": [],
   "source": [
    "import pandas as pd\n",
    "import numpy as np\n",
    "import matplotlib.pyplot as plt\n",
    "%matplotlib inline\n",
    "\n",
    "DATA = './data/'\n",
    "BEER = 'RateBeer/'"
   ]
  },
  {
   "cell_type": "markdown",
   "id": "234fa704",
   "metadata": {},
   "source": [
    "## 1 Open data files\n",
    "### 1.1 Open users.csv\n",
    "#### Problem:\n",
    "The 2 dataset (beer advocate and ratebeer) have really different repartition of users’s locations.\n",
    "#### Solution:\n",
    "We will use only one dataset, the one that have the better repartition. Indeed, fusing the 2 could be dangerous, as we do not know if the “common users” contain really all the common users of the 2 websites"
   ]
  },
  {
   "cell_type": "code",
   "execution_count": 2,
   "id": "e5d2e0c8",
   "metadata": {},
   "outputs": [
    {
     "name": "stdout",
     "output_type": "stream",
     "text": [
      "Number of users : 70174.\n"
     ]
    },
    {
     "data": {
      "text/html": [
       "<div>\n",
       "<style scoped>\n",
       "    .dataframe tbody tr th:only-of-type {\n",
       "        vertical-align: middle;\n",
       "    }\n",
       "\n",
       "    .dataframe tbody tr th {\n",
       "        vertical-align: top;\n",
       "    }\n",
       "\n",
       "    .dataframe thead th {\n",
       "        text-align: right;\n",
       "    }\n",
       "</style>\n",
       "<table border=\"1\" class=\"dataframe\">\n",
       "  <thead>\n",
       "    <tr style=\"text-align: right;\">\n",
       "      <th></th>\n",
       "      <th>nbr_ratings</th>\n",
       "      <th>user_id</th>\n",
       "      <th>user_name</th>\n",
       "      <th>joined</th>\n",
       "      <th>location</th>\n",
       "    </tr>\n",
       "  </thead>\n",
       "  <tbody>\n",
       "    <tr>\n",
       "      <th>0</th>\n",
       "      <td>1890</td>\n",
       "      <td>175852</td>\n",
       "      <td>Manslow</td>\n",
       "      <td>1.337508e+09</td>\n",
       "      <td>Poland</td>\n",
       "    </tr>\n",
       "  </tbody>\n",
       "</table>\n",
       "</div>"
      ],
      "text/plain": [
       "   nbr_ratings  user_id user_name        joined location\n",
       "0         1890   175852   Manslow  1.337508e+09   Poland"
      ]
     },
     "execution_count": 2,
     "metadata": {},
     "output_type": "execute_result"
    }
   ],
   "source": [
    "users = pd.read_csv(DATA + BEER + 'users.csv',  sep=',')\n",
    "tot_users = len(users)\n",
    "print(\"Number of users : {}.\".format(tot_users))\n",
    "users.head(1)"
   ]
  },
  {
   "cell_type": "markdown",
   "id": "8587d590",
   "metadata": {},
   "source": [
    "The number of reviews is like a power law with some outliners!"
   ]
  },
  {
   "cell_type": "code",
   "execution_count": 3,
   "id": "28261ece",
   "metadata": {},
   "outputs": [
    {
     "data": {
      "image/png": "[encoded data removed]",
      "text/plain": [
       "<Figure size 720x360 with 1 Axes>"
      ]
     },
     "metadata": {
      "needs_background": "light"
     },
     "output_type": "display_data"
    }
   ],
   "source": [
    "fig = plt.subplots(figsize= (10,5))\n",
    "\n",
    "plt.hist(users.nbr_ratings.values, bins = 80,log = True, alpha = 0.5)\n",
    "plt.title('Rate beer')\n",
    "plt.xlabel(\"Number of users\")\n",
    "plt.ylabel(\"Number of Ratings\", rotation = 90)\n",
    "plt.show()"
   ]
  },
  {
   "cell_type": "markdown",
   "id": "68cb7d1c",
   "metadata": {},
   "source": [
    "### 1.2 Open ratings.txt\n",
    "The dataset is too large to do a quick analysis. We therefore import the first 300,000 ratings."
   ]
  },
  {
   "cell_type": "code",
   "execution_count": 4,
   "id": "a41b47fb",
   "metadata": {},
   "outputs": [
    {
     "name": "stdout",
     "output_type": "stream",
     "text": [
      "There are 300000 rows.\n"
     ]
    },
    {
     "data": {
      "text/html": [
       "<div>\n",
       "<style scoped>\n",
       "    .dataframe tbody tr th:only-of-type {\n",
       "        vertical-align: middle;\n",
       "    }\n",
       "\n",
       "    .dataframe tbody tr th {\n",
       "        vertical-align: top;\n",
       "    }\n",
       "\n",
       "    .dataframe thead th {\n",
       "        text-align: right;\n",
       "    }\n",
       "</style>\n",
       "<table border=\"1\" class=\"dataframe\">\n",
       "  <thead>\n",
       "    <tr style=\"text-align: right;\">\n",
       "      <th></th>\n",
       "      <th>beer_name</th>\n",
       "      <th>beer_id</th>\n",
       "      <th>brewery_name</th>\n",
       "      <th>brewery_id</th>\n",
       "      <th>style</th>\n",
       "      <th>abv</th>\n",
       "      <th>date</th>\n",
       "      <th>user_name</th>\n",
       "      <th>user_id</th>\n",
       "      <th>appearance</th>\n",
       "      <th>aroma</th>\n",
       "      <th>palate</th>\n",
       "      <th>taste</th>\n",
       "      <th>overall</th>\n",
       "      <th>rating</th>\n",
       "      <th>text</th>\n",
       "    </tr>\n",
       "  </thead>\n",
       "  <tbody>\n",
       "    <tr>\n",
       "      <th>0</th>\n",
       "      <td>33 Export (Gabon)</td>\n",
       "      <td>410549</td>\n",
       "      <td>Sobraga</td>\n",
       "      <td>3198</td>\n",
       "      <td>Pale Lager</td>\n",
       "      <td>5.0</td>\n",
       "      <td>1461664800</td>\n",
       "      <td>Manslow</td>\n",
       "      <td>175852</td>\n",
       "      <td>2</td>\n",
       "      <td>4</td>\n",
       "      <td>2</td>\n",
       "      <td>4</td>\n",
       "      <td>8</td>\n",
       "      <td>2.00</td>\n",
       "      <td>Puszka 0,33l dzięki Christoph . Kolor jasnozło...</td>\n",
       "    </tr>\n",
       "  </tbody>\n",
       "</table>\n",
       "</div>"
      ],
      "text/plain": [
       "           beer_name beer_id brewery_name brewery_id       style  abv  \\\n",
       "0  33 Export (Gabon)  410549      Sobraga       3198  Pale Lager  5.0   \n",
       "\n",
       "         date user_name user_id appearance aroma palate taste overall rating  \\\n",
       "0  1461664800   Manslow  175852          2     4      2     4       8   2.00   \n",
       "\n",
       "                                                text  \n",
       "0  Puszka 0,33l dzięki Christoph . Kolor jasnozło...  "
      ]
     },
     "execution_count": 4,
     "metadata": {},
     "output_type": "execute_result"
    }
   ],
   "source": [
    "DF_PATH = DATA + BEER + 'ratings.txt'\n",
    "data = {}\n",
    "max_rows = 300000\n",
    "with open(DF_PATH,'r', encoding='utf-8') as file:\n",
    "    count = 1\n",
    "    for word in file:\n",
    "        if word !='\\n':\n",
    "            lst = word.strip('\\n').split(': ')\n",
    "            if lst[0] in data:\n",
    "                data[lst[0]].append(lst[1])\n",
    "            else:\n",
    "                data[lst[0]] = [lst[1]]\n",
    "            if count >=max_rows*16:\n",
    "                break\n",
    "            count+=1\n",
    "ratings = pd.DataFrame(data)\n",
    "print('There are {} rows.'.format(len(ratings)))\n",
    "ratings.head(1)"
   ]
  },
  {
   "cell_type": "markdown",
   "id": "a5b987fa",
   "metadata": {},
   "source": [
    "### 1.3 Open continent_and_region.csv\n",
    "We import an additional dataset to be able to make an analysis by sub-region. In the initial dataset we have only the country of the user."
   ]
  },
  {
   "cell_type": "code",
   "execution_count": 5,
   "id": "2cae148c",
   "metadata": {},
   "outputs": [
    {
     "data": {
      "text/html": [
       "<div>\n",
       "<style scoped>\n",
       "    .dataframe tbody tr th:only-of-type {\n",
       "        vertical-align: middle;\n",
       "    }\n",
       "\n",
       "    .dataframe tbody tr th {\n",
       "        vertical-align: top;\n",
       "    }\n",
       "\n",
       "    .dataframe thead th {\n",
       "        text-align: right;\n",
       "    }\n",
       "</style>\n",
       "<table border=\"1\" class=\"dataframe\">\n",
       "  <thead>\n",
       "    <tr style=\"text-align: right;\">\n",
       "      <th></th>\n",
       "      <th>name</th>\n",
       "      <th>alpha-2</th>\n",
       "      <th>alpha-3</th>\n",
       "      <th>country-code</th>\n",
       "      <th>iso_3166-2</th>\n",
       "      <th>region</th>\n",
       "      <th>sub-region</th>\n",
       "      <th>intermediate-region</th>\n",
       "      <th>region-code</th>\n",
       "      <th>sub-region-code</th>\n",
       "      <th>intermediate-region-code</th>\n",
       "    </tr>\n",
       "  </thead>\n",
       "  <tbody>\n",
       "    <tr>\n",
       "      <th>0</th>\n",
       "      <td>Afghanistan</td>\n",
       "      <td>AF</td>\n",
       "      <td>AFG</td>\n",
       "      <td>4.0</td>\n",
       "      <td>ISO 3166-2:AF</td>\n",
       "      <td>Asia</td>\n",
       "      <td>Southern Asia</td>\n",
       "      <td>NaN</td>\n",
       "      <td>142.0</td>\n",
       "      <td>34.0</td>\n",
       "      <td>NaN</td>\n",
       "    </tr>\n",
       "  </tbody>\n",
       "</table>\n",
       "</div>"
      ],
      "text/plain": [
       "          name alpha-2 alpha-3  country-code     iso_3166-2 region  \\\n",
       "0  Afghanistan      AF     AFG           4.0  ISO 3166-2:AF   Asia   \n",
       "\n",
       "      sub-region intermediate-region  region-code  sub-region-code  \\\n",
       "0  Southern Asia                 NaN        142.0             34.0   \n",
       "\n",
       "   intermediate-region-code  \n",
       "0                       NaN  "
      ]
     },
     "execution_count": 5,
     "metadata": {},
     "output_type": "execute_result"
    }
   ],
   "source": [
    "geography = pd.read_csv(DATA + 'continent_and_region.csv',  sep=',')\n",
    "geography.head(1)"
   ]
  },
  {
   "cell_type": "markdown",
   "id": "902fdb3d",
   "metadata": {},
   "source": [
    "## 2 Filtering data\n",
    "\n",
    "#### Problem:\n",
    "Some countries have way more users providing reviews/ratings, and some have very few. This means that we can be extremely confident about some countries, but for those with sparse data, making conclusions about their preferences from smaller samples may be inaccurate. The same argument could be made about deciding whether to trust users who write few reviews, or to make conclusions about beers for which few reviews are written.\n",
    "#### Solution:\n",
    "We plan to monitor the sparsity of the data and implement thresholds when needed, to ensure that we’re making our conclusions from reasonably-sized samples. Moreover, a larger analyze could be made about sub-region to be able to have more proper result"
   ]
  },
  {
   "cell_type": "markdown",
   "id": "cc66be26",
   "metadata": {},
   "source": [
    "\n",
    "### 2.1 Users without location"
   ]
  },
  {
   "cell_type": "code",
   "execution_count": 6,
   "id": "7a6da487",
   "metadata": {},
   "outputs": [
    {
     "name": "stdout",
     "output_type": "stream",
     "text": [
      "Number of users after filtering: 50592. \n",
      "It's 72.10% of the initial number of users .\n"
     ]
    }
   ],
   "source": [
    "users = users.dropna(subset=['location'])\n",
    "print(\"Number of users after filtering: {}. \\nIt's {:.2f}% of the initial number of users .\"\n",
    "      .format(len(users),len(users)/tot_users*100))"
   ]
  },
  {
   "cell_type": "markdown",
   "id": "338733c0",
   "metadata": {},
   "source": [
    "### 2.2 Users with less than 10 ratings"
   ]
  },
  {
   "cell_type": "code",
   "execution_count": 7,
   "id": "b6df8502",
   "metadata": {},
   "outputs": [
    {
     "name": "stdout",
     "output_type": "stream",
     "text": [
      "Number of users after filtering: 15232. \n",
      "It's 21.71% of the initial number of users .\n"
     ]
    }
   ],
   "source": [
    "users_threshold = 10\n",
    "users = users[users[\"nbr_ratings\"]>=users_threshold]\n",
    "print(\"Number of users after filtering: {}. \\nIt's {:.2f}% of the initial number of users .\"\n",
    "      .format(len(users),len(users)/tot_users*100))"
   ]
  },
  {
   "cell_type": "markdown",
   "id": "dbf154bd",
   "metadata": {},
   "source": [
    "Now let's see the country repartition of the users"
   ]
  },
  {
   "cell_type": "code",
   "execution_count": 8,
   "id": "7c13fa8f",
   "metadata": {},
   "outputs": [
    {
     "name": "stdout",
     "output_type": "stream",
     "text": [
      "Number of different locations: 157.\n"
     ]
    },
    {
     "data": {
      "text/plain": [
       "location\n",
       "Canada                       992\n",
       "United States, California    816\n",
       "Poland                       777\n",
       "dtype: int64"
      ]
     },
     "execution_count": 8,
     "metadata": {},
     "output_type": "execute_result"
    }
   ],
   "source": [
    "users_group = users.groupby(\"location\")\n",
    "tot_location = len(users_group)\n",
    "print(\"Number of different locations: {}.\".format(tot_location))\n",
    "users_group.agg('size').sort_values(ascending = False).head(3)"
   ]
  },
  {
   "cell_type": "markdown",
   "id": "591e134d",
   "metadata": {},
   "source": [
    "### 2.3 New column country/ state/ region/ sub-region\n",
    "\n",
    "With the help of the dataset from  https://github.com/lukes/ISO-3166-Countries-with-Regional-Codes/blob/master/all/all.csv, we add the region and continent.\n",
    "\n",
    "NOTE : United Kingdowm is divided in 4 : Scotland, Norhtern Ireland, Wales and England"
   ]
  },
  {
   "cell_type": "code",
   "execution_count": 9,
   "id": "ea8b36cf",
   "metadata": {},
   "outputs": [
    {
     "data": {
      "text/html": [
       "<div>\n",
       "<style scoped>\n",
       "    .dataframe tbody tr th:only-of-type {\n",
       "        vertical-align: middle;\n",
       "    }\n",
       "\n",
       "    .dataframe tbody tr th {\n",
       "        vertical-align: top;\n",
       "    }\n",
       "\n",
       "    .dataframe thead th {\n",
       "        text-align: right;\n",
       "    }\n",
       "</style>\n",
       "<table border=\"1\" class=\"dataframe\">\n",
       "  <thead>\n",
       "    <tr style=\"text-align: right;\">\n",
       "      <th></th>\n",
       "      <th>country</th>\n",
       "      <th>region</th>\n",
       "      <th>sub-region</th>\n",
       "    </tr>\n",
       "  </thead>\n",
       "  <tbody>\n",
       "    <tr>\n",
       "      <th>0</th>\n",
       "      <td>Afghanistan</td>\n",
       "      <td>Asia</td>\n",
       "      <td>Southern Asia</td>\n",
       "    </tr>\n",
       "  </tbody>\n",
       "</table>\n",
       "</div>"
      ],
      "text/plain": [
       "       country region     sub-region\n",
       "0  Afghanistan   Asia  Southern Asia"
      ]
     },
     "execution_count": 9,
     "metadata": {},
     "output_type": "execute_result"
    }
   ],
   "source": [
    "geography = geography.drop(['alpha-2','alpha-3','country-code','iso_3166-2','intermediate-region','region-code','sub-region-code','intermediate-region-code'], axis=1)\n",
    "geography.rename(columns = {'name':'country'}, inplace = True)\n",
    "geography.head(1)"
   ]
  },
  {
   "cell_type": "code",
   "execution_count": 10,
   "id": "01c404a1",
   "metadata": {},
   "outputs": [
    {
     "data": {
      "text/html": [
       "<div>\n",
       "<style scoped>\n",
       "    .dataframe tbody tr th:only-of-type {\n",
       "        vertical-align: middle;\n",
       "    }\n",
       "\n",
       "    .dataframe tbody tr th {\n",
       "        vertical-align: top;\n",
       "    }\n",
       "\n",
       "    .dataframe thead th {\n",
       "        text-align: right;\n",
       "    }\n",
       "</style>\n",
       "<table border=\"1\" class=\"dataframe\">\n",
       "  <thead>\n",
       "    <tr style=\"text-align: right;\">\n",
       "      <th></th>\n",
       "      <th>nbr_ratings</th>\n",
       "      <th>user_id</th>\n",
       "      <th>user_name</th>\n",
       "      <th>joined</th>\n",
       "      <th>country</th>\n",
       "      <th>state</th>\n",
       "      <th>region</th>\n",
       "      <th>sub-region</th>\n",
       "    </tr>\n",
       "  </thead>\n",
       "  <tbody>\n",
       "    <tr>\n",
       "      <th>0</th>\n",
       "      <td>1890</td>\n",
       "      <td>175852</td>\n",
       "      <td>Manslow</td>\n",
       "      <td>1.337508e+09</td>\n",
       "      <td>Poland</td>\n",
       "      <td>None</td>\n",
       "      <td>Europe</td>\n",
       "      <td>Eastern Europe</td>\n",
       "    </tr>\n",
       "  </tbody>\n",
       "</table>\n",
       "</div>"
      ],
      "text/plain": [
       "   nbr_ratings  user_id user_name        joined country state  region  \\\n",
       "0         1890   175852   Manslow  1.337508e+09  Poland  None  Europe   \n",
       "\n",
       "       sub-region  \n",
       "0  Eastern Europe  "
      ]
     },
     "execution_count": 10,
     "metadata": {},
     "output_type": "execute_result"
    }
   ],
   "source": [
    "users['country'] = users.apply(lambda x : x.location.split(',')[0], axis = 1)\n",
    "users['state'] = users.apply(lambda x : x.location.split(',')[1] if len(x.location.split(','))== 2 else None, axis = 1)\n",
    "users = pd.merge(users, geography, left_on='country', right_on='country')\n",
    "\n",
    "users = users.drop(['location'], axis=1)\n",
    "users.head(1)"
   ]
  },
  {
   "cell_type": "code",
   "execution_count": 11,
   "id": "4c7f19de",
   "metadata": {},
   "outputs": [
    {
     "name": "stdout",
     "output_type": "stream",
     "text": [
      "Number of different countries after filtering: 106.\n",
      "The porcentage of USA's users is 53.76%\n"
     ]
    },
    {
     "data": {
      "text/plain": [
       "country\n",
       "United States    8126\n",
       "Canada            992\n",
       "Poland            777\n",
       "England           644\n",
       "Denmark           425\n",
       "dtype: int64"
      ]
     },
     "execution_count": 11,
     "metadata": {},
     "output_type": "execute_result"
    }
   ],
   "source": [
    "users_group = users.groupby(\"country\").agg('size').sort_values(ascending = False)\n",
    "tot_country = len(users_group)\n",
    "print(\"Number of different countries after filtering: {}.\".format(tot_country))\n",
    "print(\"The porcentage of USA's users is {:.2f}%\".format(users_group[0]/len(users)*100))\n",
    "users_group.head(5)"
   ]
  },
  {
   "cell_type": "markdown",
   "id": "de2fdacd",
   "metadata": {},
   "source": [
    "### 2.4.a Countries with less than 10 users"
   ]
  },
  {
   "cell_type": "code",
   "execution_count": 12,
   "id": "d8a9523a",
   "metadata": {},
   "outputs": [
    {
     "name": "stdout",
     "output_type": "stream",
     "text": [
      "Number of users after filtering: 14983. \n",
      "It's 21.35% of the initial number of users .\n"
     ]
    }
   ],
   "source": [
    "country_threshod = 10\n",
    "bl_country_threshold = pd.DataFrame(users_group>=country_threshod, columns=['country_treshod'])\n",
    "filtered_users = pd.merge(users, bl_country_threshold, left_on='country', right_on='country')\n",
    "filtered_users = filtered_users[filtered_users.country_treshod==True].drop(['country_treshod'], axis=1)\n",
    "print(\"Number of users after filtering: {}. \\nIt's {:.2f}% of the initial number of users .\"\n",
    "      .format(len(filtered_users),len(filtered_users)/tot_users*100))"
   ]
  },
  {
   "cell_type": "code",
   "execution_count": 13,
   "id": "463f6563",
   "metadata": {},
   "outputs": [
    {
     "name": "stdout",
     "output_type": "stream",
     "text": [
      "Number of different countries after filtering: 50 .\n",
      "It's 47.17% of the number of countries.\n"
     ]
    },
    {
     "data": {
      "text/plain": [
       "country\n",
       "United States    8126\n",
       "Canada            992\n",
       "Poland            777\n",
       "England           644\n",
       "Denmark           425\n",
       "dtype: int64"
      ]
     },
     "execution_count": 13,
     "metadata": {},
     "output_type": "execute_result"
    }
   ],
   "source": [
    "users_group_country = filtered_users.groupby(\"country\").agg('size').sort_values(ascending = False)\n",
    "print(\"Number of different countries after filtering: {} .\\nIt's {:.2f}% of the number of countries.\"\n",
    "      .format(len(users_group_country), len(users_group_country)/tot_country*100))\n",
    "users_group_country.head(5)"
   ]
  },
  {
   "cell_type": "code",
   "execution_count": 14,
   "id": "32878940",
   "metadata": {},
   "outputs": [
    {
     "data": {
      "image/png": "[encoded data removed]",
      "text/plain": [
       "<Figure size 1728x288 with 1 Axes>"
      ]
     },
     "metadata": {
      "needs_background": "light"
     },
     "output_type": "display_data"
    }
   ],
   "source": [
    "fig, ax = plt.subplots(figsize= (24,4))\n",
    "ax.hist(filtered_users.country.values, bins =len(users_group_country),log = True, alpha = 0.5)\n",
    "ax.set_ylim(1, 100000)\n",
    "ax.set_title('Beer Advocate')\n",
    "plt.xticks(rotation=90)\n",
    "plt.ylabel(\"Number of users\")\n",
    "plt.show()"
   ]
  },
  {
   "cell_type": "markdown",
   "id": "5bd9cc99",
   "metadata": {},
   "source": [
    "### 2.4.b Sub-region with less than 50 users"
   ]
  },
  {
   "cell_type": "code",
   "execution_count": 15,
   "id": "963d9dd2",
   "metadata": {},
   "outputs": [
    {
     "name": "stdout",
     "output_type": "stream",
     "text": [
      "Number of users after filtering: 15036. \n",
      "It's 21.43% of the initial number of users .\n"
     ]
    }
   ],
   "source": [
    "region_threshod = 50\n",
    "users_group = users.groupby(\"sub-region\").agg('size').sort_values(ascending = False)\n",
    "tot_regions = len(users_group)\n",
    "bl_region_threshold = pd.DataFrame(users_group>=region_threshod, columns=['region_treshod'])\n",
    "filtered_users = pd.merge(users, bl_region_threshold, left_on='sub-region', right_on='sub-region')\n",
    "filtered_users = filtered_users[filtered_users.region_treshod==True].drop(['region_treshod'], axis=1)\n",
    "print(\"Number of users after filtering: {}. \\nIt's {:.2f}% of the initial number of users .\"\n",
    "      .format(len(filtered_users),len(filtered_users)/tot_users*100))"
   ]
  },
  {
   "cell_type": "code",
   "execution_count": 16,
   "id": "a135d2f6",
   "metadata": {},
   "outputs": [
    {
     "name": "stdout",
     "output_type": "stream",
     "text": [
      "Number of different countries after filtering: 9 .\n",
      "It's 60.00% of the number of initial location.\n"
     ]
    },
    {
     "data": {
      "text/plain": [
       "sub-region\n",
       "Northern America                   9120\n",
       "Northern Europe                    2200\n",
       "Western Europe                     1156\n",
       "Eastern Europe                     1061\n",
       "Southern Europe                     726\n",
       "Australia and New Zealand           389\n",
       "Latin America and the Caribbean     245\n",
       "Eastern Asia                         83\n",
       "dtype: int64"
      ]
     },
     "execution_count": 16,
     "metadata": {},
     "output_type": "execute_result"
    }
   ],
   "source": [
    "users_group_region = filtered_users.groupby(\"sub-region\").agg('size').sort_values(ascending = False)\n",
    "print(\"Number of different countries after filtering: {} .\\nIt's {:.2f}% of the number of initial location.\"\n",
    "      .format(len(users_group_region), len(users_group_region)/tot_regions*100))\n",
    "users_group_region.head(8)"
   ]
  },
  {
   "cell_type": "code",
   "execution_count": 17,
   "id": "81cbb186",
   "metadata": {},
   "outputs": [
    {
     "data": {
      "image/png": "[encoded data removed]",
      "text/plain": [
       "<Figure size 1728x288 with 1 Axes>"
      ]
     },
     "metadata": {
      "needs_background": "light"
     },
     "output_type": "display_data"
    }
   ],
   "source": [
    "fig, ax = plt.subplots(figsize= (24,4))\n",
    "ax.hist(filtered_users[\"sub-region\"].values, bins =len(users_group_region),log = True, alpha = 0.5)\n",
    "ax.set_ylim(1, 100000)\n",
    "ax.set_title('Beer Advocate')\n",
    "plt.ylabel(\"Number of users\")\n",
    "plt.show()"
   ]
  },
  {
   "cell_type": "markdown",
   "id": "7c25c19a",
   "metadata": {},
   "source": [
    "## 3 Analyse data\n",
    "\n",
    "### 3.1 Find best type by sub-region\n",
    "#### Problem:\n",
    "Much of our project is founded on the assumption that a high average rating equates to preference for a particular beer. However, it’s not obvious that this is true. A favorite or most preferred beer could be defined as one that is the most popular / garners the most sales, or it could be one that is known to have great quality but perhaps expensive such that not many can afford it. We can’t exactly be sure if a high rating matches one of these definitions, or perhaps somewhere in between.\n",
    "#### Solution:\n",
    "We plan to stick with using high ratings as a proxy for preferences/favorites, but we will ensure that assumptions like these are clearly laid out for the reader."
   ]
  },
  {
   "cell_type": "markdown",
   "id": "759721cf",
   "metadata": {},
   "source": [
    "We merge the ratings dataset with the users dataset to obtain the origin of a rating."
   ]
  },
  {
   "cell_type": "code",
   "execution_count": 18,
   "id": "3a383292",
   "metadata": {},
   "outputs": [
    {
     "data": {
      "text/html": [
       "<div>\n",
       "<style scoped>\n",
       "    .dataframe tbody tr th:only-of-type {\n",
       "        vertical-align: middle;\n",
       "    }\n",
       "\n",
       "    .dataframe tbody tr th {\n",
       "        vertical-align: top;\n",
       "    }\n",
       "\n",
       "    .dataframe thead th {\n",
       "        text-align: right;\n",
       "    }\n",
       "</style>\n",
       "<table border=\"1\" class=\"dataframe\">\n",
       "  <thead>\n",
       "    <tr style=\"text-align: right;\">\n",
       "      <th></th>\n",
       "      <th>user_name</th>\n",
       "      <th>overall</th>\n",
       "      <th>style</th>\n",
       "      <th>sub-region</th>\n",
       "    </tr>\n",
       "  </thead>\n",
       "  <tbody>\n",
       "    <tr>\n",
       "      <th>235617</th>\n",
       "      <td>illidurit</td>\n",
       "      <td>20</td>\n",
       "      <td>Imperial Stout</td>\n",
       "      <td>Northern America</td>\n",
       "    </tr>\n",
       "    <tr>\n",
       "      <th>275638</th>\n",
       "      <td>Frankieboy</td>\n",
       "      <td>20</td>\n",
       "      <td>India Pale Ale (IPA)</td>\n",
       "      <td>Northern America</td>\n",
       "    </tr>\n",
       "    <tr>\n",
       "      <th>156140</th>\n",
       "      <td>bulldogops</td>\n",
       "      <td>20</td>\n",
       "      <td>Imperial Stout</td>\n",
       "      <td>Northern America</td>\n",
       "    </tr>\n",
       "    <tr>\n",
       "      <th>212828</th>\n",
       "      <td>corkyrory66</td>\n",
       "      <td>20</td>\n",
       "      <td>Amber Ale</td>\n",
       "      <td>Western Europe</td>\n",
       "    </tr>\n",
       "    <tr>\n",
       "      <th>156141</th>\n",
       "      <td>bulldogops</td>\n",
       "      <td>20</td>\n",
       "      <td>Imperial Stout</td>\n",
       "      <td>Northern America</td>\n",
       "    </tr>\n",
       "  </tbody>\n",
       "</table>\n",
       "</div>"
      ],
      "text/plain": [
       "          user_name  overall                 style        sub-region\n",
       "235617    illidurit       20        Imperial Stout  Northern America\n",
       "275638   Frankieboy       20  India Pale Ale (IPA)  Northern America\n",
       "156140   bulldogops       20        Imperial Stout  Northern America\n",
       "212828  corkyrory66       20             Amber Ale    Western Europe\n",
       "156141   bulldogops       20        Imperial Stout  Northern America"
      ]
     },
     "execution_count": 18,
     "metadata": {},
     "output_type": "execute_result"
    }
   ],
   "source": [
    "merge_ratings = ratings.merge(filtered_users, on = 'user_name').drop(['user_id_x','user_id_y'], axis=1)\n",
    "merge_ratings['overall'] = merge_ratings['overall'].astype(int)\n",
    "merge_ratings.sort_values('overall',ascending = False)[['user_name','overall','style','sub-region']].head(5)"
   ]
  },
  {
   "cell_type": "markdown",
   "id": "a9fc34ef",
   "metadata": {},
   "source": [
    "\n"
   ]
  },
  {
   "cell_type": "markdown",
   "id": "e7147a11",
   "metadata": {},
   "source": [
    "We obtain the ranking of the 3 best types of beers by region by taking the average."
   ]
  },
  {
   "cell_type": "code",
   "execution_count": 19,
   "id": "84fc9a60",
   "metadata": {},
   "outputs": [
    {
     "name": "stdout",
     "output_type": "stream",
     "text": [
      "Sub-region: Northern America\n",
      "Top 1 \t Abt/Quadrupel with a score of 15.85\n",
      "Top 2 \t Imperial Stout with a score of 15.37\n",
      "Top 3 \t Abbey Tripel with a score of 14.97\n",
      "Sub-region: Northern Europe\n",
      "Top 1 \t Lambic Style - Fruit with a score of 16.52\n",
      "Top 2 \t Imperial Stout with a score of 15.36\n",
      "Top 3 \t Abt/Quadrupel with a score of 15.24\n",
      "Sub-region: Western Europe\n",
      "Top 1 \t Mead with a score of 16.50\n",
      "Top 2 \t Imperial Stout with a score of 15.89\n",
      "Top 3 \t Lambic Style - Fruit with a score of 15.77\n",
      "Sub-region: Eastern Europe\n",
      "Top 1 \t Imperial Stout with a score of 15.30\n",
      "Top 2 \t American Strong Ale  with a score of 15.15\n",
      "Top 3 \t Sour Red/Brown with a score of 15.15\n",
      "Sub-region: Southern Europe\n",
      "Top 1 \t Lambic Style - Fruit with a score of 17.00\n",
      "Top 2 \t Abt/Quadrupel with a score of 16.37\n",
      "Top 3 \t Sour Red/Brown with a score of 16.33\n",
      "Sub-region: Australia and New Zealand\n",
      "Top 1 \t Imperial Stout with a score of 16.14\n",
      "Top 2 \t Abt/Quadrupel with a score of 15.69\n",
      "Top 3 \t Baltic Porter with a score of 15.57\n",
      "Sub-region: Latin America and the Caribbean\n",
      "Top 1 \t Abt/Quadrupel with a score of 16.21\n",
      "Top 2 \t Imperial Porter with a score of 16.00\n",
      "Top 3 \t Abbey Tripel with a score of 15.38\n",
      "Sub-region: Eastern Asia\n",
      "Top 1 \t Sour Red/Brown with a score of 15.57\n",
      "Top 2 \t Baltic Porter with a score of 15.43\n",
      "Top 3 \t India Style Lager with a score of 15.33\n",
      "Sub-region: Western Asia\n",
      "Top 1 \t Sour Red/Brown with a score of 16.00\n",
      "Top 2 \t Berliner Weisse with a score of 15.83\n",
      "Top 3 \t Sour/Wild Ale with a score of 15.40\n"
     ]
    }
   ],
   "source": [
    "top_types_region = []\n",
    "top_scores_region = []\n",
    "for region in users_group_region.index: \n",
    "    ratings_region = merge_ratings[merge_ratings['sub-region']==region]\n",
    "    overall_mean_region = ratings_region.groupby('style').agg(overall_mean =('overall', 'mean')).sort_values('overall_mean',ascending = False)\n",
    "    top_types_region.append(list(overall_mean_region.index))\n",
    "    top_scores_region.append(list(np.hstack(overall_mean_region.values)))\n",
    "\n",
    "top = 3\n",
    "for i in range(len(users_group_region)):\n",
    "    print('Sub-region: ' + users_group_region.index[i])\n",
    "    if (len(top_types_region[i])<top):    # if you don't take enough ratings, there may not be enough data to make a top 5\n",
    "        top = len(top_scores_region[i])\n",
    "    for j in range(top):\n",
    "        print('Top {} \\t {} with a score of {:.2f}'.format(j+1,top_types_region[i][j],top_scores_region[i][j]))\n"
   ]
  },
  {
   "cell_type": "markdown",
   "id": "2a84e0ce",
   "metadata": {},
   "source": [
    "### 3.2 Make our own sub-region by clustering countries with the same features\n",
    "Instead of imposing sub-regions, we group countries with similar characteristics using the agglomerative clustering method. \\\n",
    "To visualise our clustering, it is necessary to use the PCA method."
   ]
  },
  {
   "cell_type": "markdown",
   "id": "35c8e1e2",
   "metadata": {},
   "source": [
    "### 4 Representation of the results: Worldmap\n",
    "\n",
    "We're gone use folium to make a map of the world with the best beer by region.\\\n",
    "https://towardsdatascience.com/using-python-to-create-a-world-map-from-a-list-of-country-names-cd7480d03b10\n"
   ]
  }
 ],
 "metadata": {
  "kernelspec": {
   "display_name": "Python 3 (ipykernel)",
   "language": "python",
   "name": "python3"
  },
  "language_info": {
   "codemirror_mode": {
    "name": "ipython",
    "version": 3
   },
   "file_extension": ".py",
   "mimetype": "text/x-python",
   "name": "python",
   "nbconvert_exporter": "python",
   "pygments_lexer": "ipython3",
   "version": "3.9.12"
  }
 },
 "nbformat": 4,
 "nbformat_minor": 5
}
